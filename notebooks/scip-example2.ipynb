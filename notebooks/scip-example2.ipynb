{
 "cells": [
  {
   "cell_type": "code",
   "execution_count": 3,
   "id": "10e52c76-2bb1-4543-b926-e4ae7dedf5b6",
   "metadata": {},
   "outputs": [],
   "source": [
    "%load_ext lab_black"
   ]
  },
  {
   "cell_type": "code",
   "execution_count": 4,
   "id": "dd82faad-d2d2-47b4-b2d7-e5584f632d04",
   "metadata": {},
   "outputs": [],
   "source": [
    "from sklearn.base import ClassifierMixin\n",
    "from sklearn.datasets import load_breast_cancer\n",
    "from sklearn.linear_model import SGDClassifier\n",
    "import numpy as np\n",
    "from pyscipopt import Model, quicksum, log, exp\n",
    "import math"
   ]
  },
  {
   "cell_type": "code",
   "execution_count": 28,
   "id": "f1cba6a6-22b0-444c-a055-65b8d518eb61",
   "metadata": {},
   "outputs": [],
   "source": [
    "class SLIMBinaryClassifier(ClassifierMixin):\n",
    "    def __init__(self, groups=None, Lambda=100, eps=0.1):\n",
    "        \"\"\"\n",
    "        SLIMClassifier assumes transformations are already\n",
    "        applied, and we're doing integer programming\n",
    "\n",
    "        Prior transformations are applied in the\n",
    "        SLIMTransformer.\n",
    "\n",
    "        TODO: Group sparsity constraints?\n",
    "        \"\"\"\n",
    "        self.m = Model()\n",
    "        self.Lambda = Lambda\n",
    "        self.eps = 0.1\n",
    "\n",
    "        self.groups = groups\n",
    "\n",
    "        self.M = None  # Lambda * max (X)\n",
    "\n",
    "        # there are N + 3P variables\n",
    "        # to be optimized in SLIM algorithm\n",
    "        self.coef_ = None  # P\n",
    "        self.alpha_ = None  # N\n",
    "        self.beta_ = None  # P\n",
    "        self.gamma_ = None  # P\n",
    "\n",
    "    def fit(self, X, y):\n",
    "        n_instances = X.shape[0]\n",
    "        n_feats = X.shape[1]\n",
    "\n",
    "        self.coef_ = {}\n",
    "        self.alpha_ = {}\n",
    "        self.beta_ = {}\n",
    "        self.gamma_ = {}\n",
    "\n",
    "        for i in range(n_feats):\n",
    "            self.coef_[i] = self.m.addVar(f\"c{i}\", vtype=\"INTEGER\")\n",
    "            self.beta_[i] = self.m.addVar(f\"b{i}\", vtype=\"B\")\n",
    "            self.gamma_[i] = self.m.addVar(f\"g{i}\", lb=0)  # R+\n",
    "\n",
    "        for i in range(n_instances):\n",
    "            self.alpha_[i] = self.m.addVar(f\"a{i}\", vtype=\"B\")\n",
    "\n",
    "        self.M = self.Lambda * np.max(X)\n",
    "        self.C_0 = 0.1\n",
    "        self.C_1 = 0.1\n",
    "\n",
    "        # add constraints.\n",
    "        for i in range(n_instances):\n",
    "            self.m.addCons(\n",
    "                y[i] * sum([X[i, j] * self.coef_[j] for j in range(n_feats)])\n",
    "                <= (self.M * (1 - self.alpha_[i]) + self.eps)\n",
    "            )\n",
    "            self.m.addCons(\n",
    "                y[i] * sum([X[i, j] * self.coef_[j] for j in range(n_feats)])\n",
    "                >= (-self.M * (self.alpha_[i]) + self.eps)\n",
    "            )\n",
    "\n",
    "        for i in range(n_feats):\n",
    "            self.m.addCons(self.coef_[i] >= -self.Lambda * self.beta_[i])\n",
    "            self.m.addCons(self.coef_[i] <= self.Lambda * self.beta_[i])\n",
    "\n",
    "            self.m.addCons(self.coef_[i] <= self.gamma_[i])\n",
    "            self.m.addCons(self.coef_[i] >= -self.gamma_[i])\n",
    "\n",
    "        # set objective...the slow way\n",
    "        for i in range(n_instances):\n",
    "            self.m.setObjective((1 / n_instances) * self.alpha_[i])\n",
    "\n",
    "        self.m.setObjective(\n",
    "            (1 / n_instances) * quicksum(self.alpha_[i] for i in range(n_instances))\n",
    "            + self.C_0 * quicksum(self.beta_[j] for j in range(n_feats))\n",
    "            + self.C_1 * quicksum(self.gamma_[j] for j in range(n_feats))\n",
    "        )\n",
    "\n",
    "        self.m.optimize()\n",
    "        self.sol = self.m.getBestSol()\n",
    "\n",
    "        self.coef = []\n",
    "        for i in range(n_feats):\n",
    "            self.coef.append(self.sol[self.coef_[i]])\n",
    "        return self"
   ]
  },
  {
   "cell_type": "code",
   "execution_count": 29,
   "id": "470af9e6-7198-4937-aab2-e4ceb9e511ca",
   "metadata": {},
   "outputs": [],
   "source": [
    "svm_mod = SGDClassifier()\n",
    "mod = SLIMBinaryClassifier()"
   ]
  },
  {
   "cell_type": "code",
   "execution_count": 30,
   "id": "340f5e8a-938c-4f8d-abba-1ca6561e9de3",
   "metadata": {},
   "outputs": [],
   "source": [
    "data = load_breast_cancer()"
   ]
  },
  {
   "cell_type": "code",
   "execution_count": 31,
   "id": "156370e5-480d-4dcd-983f-fcc99ebabe44",
   "metadata": {},
   "outputs": [
    {
     "data": {
      "text/plain": [
       "0.9226713532513181"
      ]
     },
     "execution_count": 31,
     "metadata": {},
     "output_type": "execute_result"
    }
   ],
   "source": [
    "svm_mod.fit(data.data, data.target)\n",
    "svm_mod.score(data.data, data.target)"
   ]
  },
  {
   "cell_type": "code",
   "execution_count": 32,
   "id": "13382d1f-3746-4ac8-ae82-2ac39931dd05",
   "metadata": {},
   "outputs": [],
   "source": [
    "X = np.array([[1, 0, 1, 1], [1, 0, 0, 1], [0, 0, 1, 0], [0, 1, 1, 1]])\n",
    "y = np.array([1, 1, 0, 0])"
   ]
  },
  {
   "cell_type": "code",
   "execution_count": 33,
   "id": "fd37cdca-f219-49b5-a422-3f9e07a5adb9",
   "metadata": {},
   "outputs": [
    {
     "data": {
      "text/plain": [
       "[-0.0,\n",
       " -0.0,\n",
       " -0.0,\n",
       " -0.0,\n",
       " 0.0,\n",
       " 0.0,\n",
       " 0.0,\n",
       " 0.0,\n",
       " 0.0,\n",
       " 0.0,\n",
       " 1.0,\n",
       " -0.0,\n",
       " -0.0,\n",
       " -0.0,\n",
       " 0.0,\n",
       " 0.0,\n",
       " 0.0,\n",
       " 0.0,\n",
       " 0.0,\n",
       " 0.0,\n",
       " -0.0,\n",
       " -0.0,\n",
       " -0.0,\n",
       " -0.0,\n",
       " 0.0,\n",
       " 0.0,\n",
       " 0.0,\n",
       " 0.0,\n",
       " -0.0,\n",
       " 0.0]"
      ]
     },
     "execution_count": 33,
     "metadata": {},
     "output_type": "execute_result"
    }
   ],
   "source": [
    "mod = SLIMBinaryClassifier()\n",
    "mod.fit(data.data, data.target)\n",
    "mod.coef"
   ]
  },
  {
   "cell_type": "code",
   "execution_count": null,
   "id": "683e6d5a-dae7-4022-a85a-aca4206a0e94",
   "metadata": {},
   "outputs": [],
   "source": []
  }
 ],
 "metadata": {
  "kernelspec": {
   "display_name": "Python 3",
   "language": "python",
   "name": "python3"
  },
  "language_info": {
   "codemirror_mode": {
    "name": "ipython",
    "version": 3
   },
   "file_extension": ".py",
   "mimetype": "text/x-python",
   "name": "python",
   "nbconvert_exporter": "python",
   "pygments_lexer": "ipython3",
   "version": "3.8.8"
  }
 },
 "nbformat": 4,
 "nbformat_minor": 5
}
