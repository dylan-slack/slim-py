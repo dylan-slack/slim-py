{
 "cells": [
  {
   "cell_type": "markdown",
   "id": "excessive-inquiry",
   "metadata": {},
   "source": [
    "This notebook is to go through the MIP API for a classification project to determine how we might use it.\n",
    "\n",
    "We want to provide sensible defaults as well. We'll make some assumptions around cut points etc.\n",
    "\n",
    "https://www.berkustun.com/docs/ustun_2017_optimized_risk_scores.pdf\n",
    "\n",
    "In order to build a proper benchmark, the input features need to all be binary!\n",
    "The paper provides pre-processed datasets here: https://github.com/ustunb/risk-slim/tree/master/examples/data\n",
    "\n",
    "The question really is how do we learn these automatically without custom preprocessing?"
   ]
  },
  {
   "cell_type": "code",
   "execution_count": 235,
   "id": "numerous-position",
   "metadata": {},
   "outputs": [],
   "source": [
    "from sklearn.base import ClassifierMixin\n",
    "from sklearn.datasets import load_breast_cancer\n",
    "from sklearn.linear_model import SGDClassifier\n",
    "import tabulate\n",
    "import math\n",
    "import numpy as np"
   ]
  },
  {
   "cell_type": "code",
   "execution_count": 3,
   "id": "ancient-collectible",
   "metadata": {},
   "outputs": [],
   "source": [
    "svm_mod = SGDClassifier(penalty=\"elasticnet\")"
   ]
  },
  {
   "cell_type": "code",
   "execution_count": 4,
   "id": "nonprofit-cradle",
   "metadata": {},
   "outputs": [],
   "source": [
    "data = load_breast_cancer()"
   ]
  },
  {
   "cell_type": "code",
   "execution_count": 5,
   "id": "raised-preparation",
   "metadata": {},
   "outputs": [
    {
     "data": {
      "text/plain": [
       "0.8014059753954306"
      ]
     },
     "execution_count": 5,
     "metadata": {},
     "output_type": "execute_result"
    }
   ],
   "source": [
    "svm_mod.fit(data.data, data.target)\n",
    "svm_mod.score(data.data, data.target)"
   ]
  },
  {
   "cell_type": "code",
   "execution_count": 6,
   "id": "regional-fault",
   "metadata": {},
   "outputs": [],
   "source": [
    "# try rounding all coef"
   ]
  },
  {
   "cell_type": "code",
   "execution_count": 7,
   "id": "blond-strategy",
   "metadata": {},
   "outputs": [
    {
     "data": {
      "text/plain": [
       "0.8084358523725835"
      ]
     },
     "execution_count": 7,
     "metadata": {},
     "output_type": "execute_result"
    }
   ],
   "source": [
    "coef_scaling = np.max(svm_mod.coef_)\n",
    "\n",
    "svm_mod.intercept_ = np.round((svm_mod.intercept_ / coef_scaling) * 5)\n",
    "svm_mod.coef_ = np.round((svm_mod.coef_ / coef_scaling) * 5)\n",
    "svm_mod.score(data.data, data.target)"
   ]
  },
  {
   "cell_type": "code",
   "execution_count": 8,
   "id": "through-treatment",
   "metadata": {},
   "outputs": [
    {
     "name": "stdout",
     "output_type": "stream",
     "text": [
      "0.9226713532513181\n",
      "0.8541300527240774\n"
     ]
    }
   ],
   "source": [
    "svm_mod = SGDClassifier()\n",
    "svm_mod.fit(data.data, data.target)\n",
    "print(svm_mod.score(data.data, data.target))\n",
    "coef_scaling = np.max(svm_mod.coef_)\n",
    "\n",
    "svm_mod.intercept_ = np.round((svm_mod.intercept_ / coef_scaling) * 5)\n",
    "svm_mod.coef_ = np.round((svm_mod.coef_ / coef_scaling) * 5)\n",
    "print(svm_mod.score(data.data, data.target))"
   ]
  },
  {
   "cell_type": "code",
   "execution_count": 9,
   "id": "illegal-genealogy",
   "metadata": {},
   "outputs": [],
   "source": [
    "from sklearn.base import ClassifierMixin"
   ]
  },
  {
   "cell_type": "code",
   "execution_count": 18,
   "id": "conventional-postage",
   "metadata": {},
   "outputs": [],
   "source": [
    "class RescaledRounding(ClassifierMixin):\n",
    "    def __init__(self, kambda=5, **kwargs):\n",
    "        self.kambda = kambda\n",
    "        self.model = SGDClassifier(**kwargs)\n",
    "        \n",
    "    def rescale(self):\n",
    "        coef_scaling = np.max(np.abs(self.model.coef_))\n",
    "        self.model.coef_ = np.round((self.model.coef_/coef_scaling)*self.kambda)\n",
    "        self.model.intercept_ = np.round((self.model.intercept_/coef_scaling)*self.kambda)\n",
    "        \n",
    "    def fit(self, X, y):\n",
    "        self.model.fit(X, y)\n",
    "        self.rescale()\n",
    "        \n",
    "    \n",
    "    def partial_fit(self, X, y):\n",
    "        self.model.partial_fit(X, y)\n",
    "        self.rescale()\n",
    "        \n",
    "    def predict(self, X):\n",
    "        return self.model.predict(X)\n",
    "               "
   ]
  },
  {
   "cell_type": "code",
   "execution_count": 19,
   "id": "quantitative-minutes",
   "metadata": {},
   "outputs": [],
   "source": [
    "class NaiveRounding(ClassifierMixin):\n",
    "    def __init__(self, kambda=5, **kwargs):\n",
    "        self.kambda = kambda\n",
    "        self.model = SGDClassifier(**kwargs)\n",
    "        \n",
    "    def rescale(self):\n",
    "        self.model.coef_ = np.maximum(self.model.coef_, -self.kambda)\n",
    "        self.model.coef_ = np.minimum(self.model.coef_, self.kambda)\n",
    "        self.model.intercept_ = np.maximum(self.model.intercept_, -self.kambda)\n",
    "        self.model.intercept_ = np.minimum(self.model.intercept_, self.kambda)\n",
    "        \n",
    "        self.model.coef_ = np.round(self.model.coef_)\n",
    "        self.model.intercept_ = np.round(self.model.intercept_)\n",
    "        \n",
    "    def fit(self, X, y):\n",
    "        self.model.fit(X, y)\n",
    "        self.rescale()\n",
    "        \n",
    "    \n",
    "    def partial_fit(self, X, y):\n",
    "        self.model.partial_fit(X, y)\n",
    "        self.rescale()\n",
    "               \n",
    "    def predict(self, X):\n",
    "        return self.model.predict(X)"
   ]
  },
  {
   "cell_type": "code",
   "execution_count": 167,
   "id": "appropriate-revelation",
   "metadata": {},
   "outputs": [
    {
     "name": "stdout",
     "output_type": "stream",
     "text": [
      "0.6836555360281195\n",
      "0.8875219683655536\n"
     ]
    }
   ],
   "source": [
    "mod1 = RescaledRounding()\n",
    "mod1.fit(data.data, data.target)\n",
    "print(mod1.score(data.data, data.target))\n",
    "\n",
    "mod2 = NaiveRounding()\n",
    "mod2.fit(data.data, data.target)\n",
    "print(mod2.score(data.data, data.target))\n"
   ]
  },
  {
   "cell_type": "code",
   "execution_count": 234,
   "id": "chemical-poker",
   "metadata": {},
   "outputs": [
    {
     "data": {
      "text/plain": [
       "(1, 30)"
      ]
     },
     "execution_count": 234,
     "metadata": {},
     "output_type": "execute_result"
    }
   ],
   "source": [
    "mod1.model.coef_.shape"
   ]
  },
  {
   "cell_type": "code",
   "execution_count": 256,
   "id": "clear-convention",
   "metadata": {},
   "outputs": [],
   "source": [
    "class IntegerSGDClassifier(ClassifierMixin):\n",
    "    \"\"\"\n",
    "    Converts SGDClassifier to integer weights. Using a naive/simple\n",
    "    rescaling scheme. This may not work optimally when updating\n",
    "    using minibatch; especially if it just one point at a time.\n",
    "    \"\"\"\n",
    "    def __init__(self, kambda=5, kambda_naive=False, column_names=None, **kwargs):\n",
    "        self.kambda = kambda\n",
    "        self.kambda_naive = kambda_naive\n",
    "        self.column_names = column_names\n",
    "        self.model = SGDClassifier(**kwargs)\n",
    "        \n",
    "    def score_table(self, column_names=None):\n",
    "        assert len(self.model.classes_) == 2, \"Scoring Table only implemented for Binary Classification\"\n",
    "        if column_names is not None:\n",
    "            self.column_names = column_names\n",
    "        \n",
    "        if self.column_names is None:\n",
    "            self.column_names = [f\"c{i}\" for i in range(self.model.coef_.shape[1])]\n",
    "        \n",
    "        table = []\n",
    "        for idx, val in enumerate(self.integer_coef_.flatten()):\n",
    "            if val == 0:\n",
    "                continue\n",
    "            row = [self.column_names[idx], val]\n",
    "            table.append(row)\n",
    "            \n",
    "        row = [\"\", -self.integer_intercept[0]]\n",
    "        table.append(row)\n",
    "        print(tabulate.tabulate(table))\n",
    "        \n",
    "    def rescale(self, naive=False):\n",
    "        coef_ = self.model.coef_\n",
    "        intercept_ = self.model.intercept_\n",
    "        if naive:\n",
    "            coef_ = np.maximum(coef_, -self.kambda)\n",
    "            coef_ = np.minimum(coef_, self.kambda)\n",
    "            intercept_ = np.maximum(intercept_, -self.kambda)\n",
    "            intercept_ = np.minimum(intercept_, self.kambda)\n",
    "\n",
    "            coef_ = np.round(coef_)\n",
    "            intercept_ = np.round(intercept_)\n",
    "        else:\n",
    "            coef_scaling = np.max(np.abs(coef_))\n",
    "            coef_ = np.round((coef_/coef_scaling)*self.kambda)\n",
    "            intercept_ = np.round((intercept_/coef_scaling)*self.kambda)\n",
    "            \n",
    "        self.integer_coef_ = coef_\n",
    "        self.integer_intercept = intercept_\n",
    "        \n",
    "    def fit(self, X, y):\n",
    "        self.model.fit(X, y)\n",
    "        self.rescale(self.kambda_naive)\n",
    "        \n",
    "    \n",
    "    def partial_fit(self, X, y):\n",
    "        self.model.partial_fit(X, y)\n",
    "        self.rescale(self.kambda_naive)\n",
    "        \n",
    "    def predict(self, X):\n",
    "        self.coef_ = self.model.coef_.copy()\n",
    "        self.intercept_ = self.model.intercept_.copy()\n",
    "        self.model.coef_ = self.integer_coef_\n",
    "        self.model.intercept_ = self.integer_intercept\n",
    "        y = self.model.predict(X)\n",
    "        self.model.coef_ = self.coef_.copy()\n",
    "        self.model.intercept_ = self.intercept_.copy()\n",
    "        return y\n",
    "               "
   ]
  },
  {
   "cell_type": "code",
   "execution_count": 257,
   "id": "floppy-midwest",
   "metadata": {},
   "outputs": [
    {
     "name": "stdout",
     "output_type": "stream",
     "text": [
      "0.9138840070298769\n"
     ]
    }
   ],
   "source": [
    "mod1 = IntegerSGDClassifier()\n",
    "mod1.fit(data.data, data.target)\n",
    "print(mod1.score(data.data, data.target))\n"
   ]
  },
  {
   "cell_type": "code",
   "execution_count": 258,
   "id": "adult-virgin",
   "metadata": {},
   "outputs": [
    {
     "name": "stdout",
     "output_type": "stream",
     "text": [
      "---  --\n",
      "c0    1\n",
      "c1    1\n",
      "c2    5\n",
      "c3    1\n",
      "c13  -2\n",
      "c20   1\n",
      "c22   5\n",
      "c23  -2\n",
      "     -1\n",
      "---  --\n"
     ]
    }
   ],
   "source": [
    "mod1.score_table()"
   ]
  },
  {
   "cell_type": "code",
   "execution_count": null,
   "id": "painful-picture",
   "metadata": {},
   "outputs": [],
   "source": []
  }
 ],
 "metadata": {
  "kernelspec": {
   "display_name": "Python 3",
   "language": "python",
   "name": "python3"
  },
  "language_info": {
   "codemirror_mode": {
    "name": "ipython",
    "version": 3
   },
   "file_extension": ".py",
   "mimetype": "text/x-python",
   "name": "python",
   "nbconvert_exporter": "python",
   "pygments_lexer": "ipython3",
   "version": "3.7.9"
  }
 },
 "nbformat": 4,
 "nbformat_minor": 5
}
